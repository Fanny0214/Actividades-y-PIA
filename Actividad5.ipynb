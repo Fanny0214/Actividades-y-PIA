{
  "nbformat": 4,
  "nbformat_minor": 0,
  "metadata": {
    "colab": {
      "provenance": [],
      "include_colab_link": true
    },
    "kernelspec": {
      "name": "python3",
      "display_name": "Python 3"
    },
    "language_info": {
      "name": "python"
    }
  },
  "cells": [
    {
      "cell_type": "markdown",
      "metadata": {
        "id": "view-in-github",
        "colab_type": "text"
      },
      "source": [
        "<a href=\"https://colab.research.google.com/github/Fanny0214/Actividades-y-PIA/blob/main/Actividad5.ipynb\" target=\"_parent\"><img src=\"https://colab.research.google.com/assets/colab-badge.svg\" alt=\"Open In Colab\"/></a>"
      ]
    },
    {
      "cell_type": "markdown",
      "source": [
        "Actividad 5:\n"
      ],
      "metadata": {
        "id": "YzrEjTqkpOE-"
      }
    },
    {
      "cell_type": "markdown",
      "source": [],
      "metadata": {
        "id": "MiwRmwyQreBq"
      }
    },
    {
      "cell_type": "markdown",
      "source": [
        "Enrique Azael Páez Estrada\n",
        "Ashley Vanessa Cavazos Garza\n",
        "Stephanie Mariane Castillo Martinez  \n",
        "Jessica Marlene Alemán Amezcua  "
      ],
      "metadata": {
        "id": "sZ28VRVzozQU"
      }
    },
    {
      "cell_type": "code",
      "execution_count": null,
      "metadata": {
        "id": "03cAQORhSG_P"
      },
      "outputs": [],
      "source": [
        "import pandas as pd\n",
        "import numpy as np\n",
        "import matplotlib.pyplot as plt"
      ]
    },
    {
      "cell_type": "code",
      "source": [
        "df = pd.read_csv('robot_sensors.csv')\n"
      ],
      "metadata": {
        "id": "yigIb_Yat8s9"
      },
      "execution_count": null,
      "outputs": []
    },
    {
      "cell_type": "code",
      "source": [
        "print(df.head(31))"
      ],
      "metadata": {
        "colab": {
          "base_uri": "https://localhost:8080/"
        },
        "id": "xIj1gIJSuHj1",
        "outputId": "d16fc616-810c-4a58-b005-aab8aea0d4d9"
      },
      "execution_count": null,
      "outputs": [
        {
          "output_type": "stream",
          "name": "stdout",
          "text": [
            "    Tiempo (s)  Distancia (cm)  Velocidad (cm/s)  Temperatura (°C)\n",
            "0            0       43.708611          9.256646         23.925585\n",
            "1            1       95.564288         27.095047         23.704682\n",
            "2            2       75.879455         43.647292         33.593819\n",
            "3            3       63.879264         36.611244         23.743193\n",
            "4            4       24.041678         40.328057         24.079246\n",
            "5            5       24.039507         32.939168         31.390974\n",
            "6            6       15.227525         34.613828         26.746098\n",
            "7            7       87.955853         42.459783         31.650658\n",
            "8            8       64.100351         12.483400         20.980492\n",
            "9            9       73.726532         24.471248         27.313568\n",
            "10          10       11.852604         11.060472         20.504204\n",
            "11          11       97.291887         49.383400         20.939798\n",
            "12          12       84.919838         47.202967         33.596562\n",
            "13          13       29.110520          1.971341         22.088681\n",
            "14          14       26.364247         35.278759         27.986310\n",
            "15          15       26.506406         46.262416         26.166434\n",
            "16          16       37.381802          9.028767         25.210150\n",
            "17          17       57.228079         28.397262         33.497500\n",
            "18          18       48.875052         45.774415         20.327351\n",
            "19          19       36.210623          1.697299         29.956845\n",
            "20          20       65.066761         34.871013         34.450917\n",
            "21          21       22.554447         14.867450         28.402523\n",
            "22          22       36.293018         46.219810         34.052337\n",
            "23          23       42.972566               NaN         20.783868\n",
            "24          24       51.046299         47.213324         26.281900\n",
            "25          25       80.665837         23.710711         23.902367\n",
            "26          26       27.970640         43.102133         30.962314\n",
            "27          27       56.281099         42.227470         34.719456\n",
            "28          28       63.317311         15.955024               NaN\n",
            "29          29       14.180537         41.445774         29.812619\n",
            "30          30       64.679037          1.850382         22.971464\n"
          ]
        }
      ]
    },
    {
      "cell_type": "code",
      "source": [
        "print(df.isnull().sum())"
      ],
      "metadata": {
        "colab": {
          "base_uri": "https://localhost:8080/"
        },
        "id": "cGTlWql0viks",
        "outputId": "aaea0bca-a116-4cc3-bfdb-d5e77af58e97"
      },
      "execution_count": null,
      "outputs": [
        {
          "output_type": "stream",
          "name": "stdout",
          "text": [
            "Tiempo (s)           0\n",
            "Distancia (cm)      30\n",
            "Velocidad (cm/s)    30\n",
            "Temperatura (°C)    30\n",
            "dtype: int64\n"
          ]
        }
      ]
    },
    {
      "cell_type": "code",
      "source": [
        "#Si encuentras valores nulos, puedes optar por rellenarlos con la media\n",
        "df['Velocidad (cm/s)'] = df['Velocidad (cm/s)'].fillna(df['Velocidad (cm/s)'].mean())\n",
        "df['Temperatura (°C)'] = df['Temperatura (°C)'].fillna(df['Temperatura (°C)'].mean())"
      ],
      "metadata": {
        "id": "2SolJ-uQwfS-"
      },
      "execution_count": null,
      "outputs": []
    },
    {
      "cell_type": "code",
      "source": [
        "# Filtra todas los valores que tienen más de 0cm/s de Velocidad (cm/s) (es para validar si la vel. es negativa)\n",
        "df_grande = df[df['Velocidad (cm/s)'] > 0]"
      ],
      "metadata": {
        "id": "6H-ton7d5-QQ"
      },
      "execution_count": null,
      "outputs": []
    },
    {
      "cell_type": "code",
      "source": [
        "# Calcula la distancia más alta y la más baja.\n",
        "Distancia_mas_alta = df.loc[df['Distancia (cm)'].idxmax()]\n",
        "Distancia_mas_baja = df.loc[df['Distancia (cm)'].idxmin()]\n",
        "print(f\"Distancia más alta: {Distancia_mas_alta}\")\n",
        "print(f\"Distancia más baja: {Distancia_mas_baja}\")"
      ],
      "metadata": {
        "colab": {
          "base_uri": "https://localhost:8080/"
        },
        "id": "cRtmncG88rwJ",
        "outputId": "0adbc6b9-2d12-4cc0-b592-42361cea20cf"
      },
      "execution_count": null,
      "outputs": [
        {
          "output_type": "stream",
          "name": "stdout",
          "text": [
            "Distancia más alta: Tiempo (s)          531.000000\n",
            "Distancia (cm)       99.974591\n",
            "Velocidad (cm/s)     30.516689\n",
            "Temperatura (°C)     32.427039\n",
            "Name: 531, dtype: float64\n",
            "Distancia más baja: Tiempo (s)          821.000000\n",
            "Distancia (cm)       10.416882\n",
            "Velocidad (cm/s)      6.069321\n",
            "Temperatura (°C)     23.430152\n",
            "Name: 821, dtype: float64\n"
          ]
        }
      ]
    },
    {
      "cell_type": "code",
      "source": [
        "# Genera un gráfico simple de la diferencia de la distancia con respecto al tiempo.\n",
        "df['Tiempo (s)'].hist(bins=3000)\n",
        "plt.title('Diferencia de la distancia con respecto al tiempo')\n",
        "plt.xlabel('Distancia (cm)')\n",
        "plt.ylabel('Tiempo (s)')\n",
        "plt.show()"
      ],
      "metadata": {
        "colab": {
          "base_uri": "https://localhost:8080/",
          "height": 472
        },
        "id": "qQrJEbG3_zr3",
        "outputId": "eb585ffa-6b5a-4028-dd1e-76a7dbbef05a"
      },
      "execution_count": null,
      "outputs": [
        {
          "output_type": "display_data",
          "data": {
            "text/plain": [
              "<Figure size 640x480 with 1 Axes>"
            ],
            "image/png": "[encoded data removed]"
          },
          "metadata": {}
        }
      ]
    },
    {
      "cell_type": "code",
      "source": [
        "# Genera un gráfico simple de la diferencia de la velocidad con respecto al tiempo.\n",
        "df['Tiempo (s)'].hist(bins=3000)\n",
        "plt.title('Diferencia de la velocidad con respecto al tiempo')\n",
        "plt.xlabel('Velocidad (cm/s)')\n",
        "plt.ylabel('Tiempo (s)')\n",
        "plt.show()"
      ],
      "metadata": {
        "id": "hf3Uu7DOQ-xD",
        "outputId": "a2de6703-39b5-4c8a-e29d-530519a9a6c3",
        "colab": {
          "base_uri": "https://localhost:8080/",
          "height": 211
        }
      },
      "execution_count": 3,
      "outputs": [
        {
          "output_type": "error",
          "ename": "NameError",
          "evalue": "name 'df' is not defined",
          "traceback": [
            "\u001b[0;31m---------------------------------------------------------------------------\u001b[0m",
            "\u001b[0;31mNameError\u001b[0m                                 Traceback (most recent call last)",
            "\u001b[0;32m<ipython-input-3-400a5ca93979>\u001b[0m in \u001b[0;36m<cell line: 0>\u001b[0;34m()\u001b[0m\n\u001b[1;32m      1\u001b[0m \u001b[0;31m# Genera un gráfico simple de la diferencia de la velocidad con respecto al tiempo.\u001b[0m\u001b[0;34m\u001b[0m\u001b[0;34m\u001b[0m\u001b[0m\n\u001b[0;32m----> 2\u001b[0;31m \u001b[0mdf\u001b[0m\u001b[0;34m[\u001b[0m\u001b[0;34m'Tiempo (s)'\u001b[0m\u001b[0;34m]\u001b[0m\u001b[0;34m.\u001b[0m\u001b[0mhist\u001b[0m\u001b[0;34m(\u001b[0m\u001b[0mbins\u001b[0m\u001b[0;34m=\u001b[0m\u001b[0;36m3000\u001b[0m\u001b[0;34m)\u001b[0m\u001b[0;34m\u001b[0m\u001b[0;34m\u001b[0m\u001b[0m\n\u001b[0m\u001b[1;32m      3\u001b[0m \u001b[0mplt\u001b[0m\u001b[0;34m.\u001b[0m\u001b[0mtitle\u001b[0m\u001b[0;34m(\u001b[0m\u001b[0;34m'Diferencia de la velocidad con respecto al tiempo'\u001b[0m\u001b[0;34m)\u001b[0m\u001b[0;34m\u001b[0m\u001b[0;34m\u001b[0m\u001b[0m\n\u001b[1;32m      4\u001b[0m \u001b[0mplt\u001b[0m\u001b[0;34m.\u001b[0m\u001b[0mxlabel\u001b[0m\u001b[0;34m(\u001b[0m\u001b[0;34m'Velocidad (cm/s)'\u001b[0m\u001b[0;34m)\u001b[0m\u001b[0;34m\u001b[0m\u001b[0;34m\u001b[0m\u001b[0m\n\u001b[1;32m      5\u001b[0m \u001b[0mplt\u001b[0m\u001b[0;34m.\u001b[0m\u001b[0mylabel\u001b[0m\u001b[0;34m(\u001b[0m\u001b[0;34m'Tiempo (s)'\u001b[0m\u001b[0;34m)\u001b[0m\u001b[0;34m\u001b[0m\u001b[0;34m\u001b[0m\u001b[0m\n",
            "\u001b[0;31mNameError\u001b[0m: name 'df' is not defined"
          ]
        }
      ]
    }
  ]
}